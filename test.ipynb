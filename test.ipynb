{
 "cells": [
  {
   "cell_type": "code",
   "execution_count": 2,
   "metadata": {},
   "outputs": [],
   "source": [
    "from pathlib import Path\n",
    "\n",
    "import cv2\n",
    "import numpy as np"
   ]
  },
  {
   "cell_type": "code",
   "execution_count": 3,
   "metadata": {},
   "outputs": [
    {
     "name": "stdout",
     "output_type": "stream",
     "text": [
      "Mean: 0.0, Std: 0.0\n"
     ]
    }
   ],
   "source": [
    "image = cv2.imread('DarkFace_Train_2021/GLARE/80.png')\n",
    "print(f\"Mean: {np.mean(image)}, Std: {np.std(image)}\")"
   ]
  },
  {
   "cell_type": "code",
   "execution_count": 4,
   "metadata": {},
   "outputs": [],
   "source": [
    "image_dir = Path('DarkFace_Train_2021/GLARE')\n",
    "images = list(image_dir.glob('*.png'))\n",
    "results = []\n",
    "for image in images:\n",
    "    if np.mean(cv2.imread(str(image))) < 1:\n",
    "        results.append(image)"
   ]
  },
  {
   "cell_type": "code",
   "execution_count": 5,
   "metadata": {},
   "outputs": [
    {
     "data": {
      "text/plain": [
       "374"
      ]
     },
     "execution_count": 5,
     "metadata": {},
     "output_type": "execute_result"
    }
   ],
   "source": [
    "len(results)"
   ]
  },
  {
   "cell_type": "code",
   "execution_count": 9,
   "metadata": {},
   "outputs": [
    {
     "data": {
      "text/plain": [
       "['4982.png', '4492.png', '2065.png', '430.png', '5540.png']"
      ]
     },
     "execution_count": 9,
     "metadata": {},
     "output_type": "execute_result"
    }
   ],
   "source": [
    "invalid_images = [r.name for r in results]\n",
    "invalid_images[:5]"
   ]
  },
  {
   "cell_type": "code",
   "execution_count": 16,
   "metadata": {},
   "outputs": [],
   "source": [
    "train_meta = Path('DarkFace_Train_2021/mf_dsfd_dark_face_train_5500.txt')\n",
    "val_meta = Path('DarkFace_Train_2021/mf_dsfd_dark_face_val_500.txt')\n",
    "\n",
    "train_files = []\n",
    "val_files = []\n",
    "\n",
    "with open(train_meta) as f:\n",
    "    for line in f:\n",
    "        train_files.append(Path(line.split()[0]).name)\n",
    "\n",
    "with open(val_meta) as f:\n",
    "    for line in f:\n",
    "        val_files.append(Path(line.split()[0]).name)"
   ]
  },
  {
   "cell_type": "code",
   "execution_count": 17,
   "metadata": {},
   "outputs": [
    {
     "data": {
      "text/plain": [
       "['2630.png', '2892.png', '2003.png', '1678.png']"
      ]
     },
     "execution_count": 17,
     "metadata": {},
     "output_type": "execute_result"
    }
   ],
   "source": [
    "train_files[:4]"
   ]
  },
  {
   "cell_type": "code",
   "execution_count": 18,
   "metadata": {},
   "outputs": [
    {
     "data": {
      "text/plain": [
       "(345, 29)"
      ]
     },
     "execution_count": 18,
     "metadata": {},
     "output_type": "execute_result"
    }
   ],
   "source": [
    "invalid_train_images = [i for i in invalid_images if i in train_files]\n",
    "invalid_val_images = [i for i in invalid_images if i in val_files]\n",
    "\n",
    "len(invalid_train_images), len(invalid_val_images)"
   ]
  },
  {
   "cell_type": "code",
   "execution_count": null,
   "metadata": {},
   "outputs": [],
   "source": [
    "import pickle\n",
    "\n",
    "with open('GLARE_train_invalid.pkl', 'wb') as f:\n",
    "    pickle.dump(invalid_train_images, f)\n",
    "\n",
    "with ('GLARE_val_invalid.pkl', 'wb') as f:\n",
    "    pickle.dump(invalid_val_images, f)"
   ]
  },
  {
   "cell_type": "code",
   "execution_count": 9,
   "metadata": {},
   "outputs": [
    {
     "data": {
      "text/plain": [
       "['2015_00701.jpg',\n",
       " '2015_00937.jpg',\n",
       " '2015_00832.jpg',\n",
       " '2015_01081.jpg',\n",
       " '2015_00885.jpg',\n",
       " '2015_01299.jpg',\n",
       " '2015_01041.jpg',\n",
       " '2015_00731.jpg',\n",
       " '2015_00790.jpg',\n",
       " '2015_00718.jpg']"
      ]
     },
     "execution_count": 9,
     "metadata": {},
     "output_type": "execute_result"
    }
   ],
   "source": [
    "from pathlib import Path\n",
    "\n",
    "import cv2\n",
    "import numpy as np\n",
    "\n",
    "with open('Exdark/main/val.txt', 'r') as f:\n",
    "    images = [line.strip() for line in f]\n",
    "\n",
    "images[:10]"
   ]
  },
  {
   "cell_type": "code",
   "execution_count": 10,
   "metadata": {},
   "outputs": [
    {
     "name": "stderr",
     "output_type": "stream",
     "text": [
      "libpng warning: iCCP: known incorrect sRGB profile\n",
      "libpng warning: iCCP: cHRM chunk does not match sRGB\n",
      "libpng warning: iCCP: known incorrect sRGB profile\n",
      "libpng warning: iCCP: known incorrect sRGB profile\n",
      "libpng warning: iCCP: known incorrect sRGB profile\n",
      "libpng warning: iCCP: known incorrect sRGB profile\n",
      "libpng warning: iCCP: known incorrect sRGB profile\n"
     ]
    },
    {
     "name": "stdout",
     "output_type": "stream",
     "text": [
      "Mean width: 831.7041581458759, Mean height: 658.4199045671438\n"
     ]
    }
   ],
   "source": [
    "image_dir = Path('Exdark/JPEGImages/IMGS_dark')\n",
    "\n",
    "\n",
    "w_list = []\n",
    "l_list = []\n",
    "\n",
    "for image in images:\n",
    "    image_path = image_dir / image\n",
    "    img = cv2.imread(str(image_path))\n",
    "    h, w, _ = img.shape\n",
    "    w_list.append(w)\n",
    "    l_list.append(h)\n",
    "\n",
    "print(f\"Mean width: {np.mean(w_list)}, Mean height: {np.mean(l_list)}\")"
   ]
  },
  {
   "cell_type": "code",
   "execution_count": null,
   "metadata": {},
   "outputs": [],
   "source": []
  },
  {
   "cell_type": "code",
   "execution_count": null,
   "metadata": {},
   "outputs": [],
   "source": []
  },
  {
   "cell_type": "code",
   "execution_count": null,
   "metadata": {},
   "outputs": [],
   "source": []
  }
 ],
 "metadata": {
  "kernelspec": {
   "display_name": "glare",
   "language": "python",
   "name": "python3"
  },
  "language_info": {
   "codemirror_mode": {
    "name": "ipython",
    "version": 3
   },
   "file_extension": ".py",
   "mimetype": "text/x-python",
   "name": "python",
   "nbconvert_exporter": "python",
   "pygments_lexer": "ipython3",
   "version": "3.8.20"
  }
 },
 "nbformat": 4,
 "nbformat_minor": 2
}

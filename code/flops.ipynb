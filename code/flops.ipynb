{
 "cells": [
  {
   "cell_type": "code",
   "execution_count": 1,
   "metadata": {},
   "outputs": [
    {
     "name": "stderr",
     "output_type": "stream",
     "text": [
      "Unsupported operator aten::add_ encountered 28 time(s)\n",
      "Unsupported operator aten::max_pool2d encountered 1 time(s)\n"
     ]
    },
    {
     "name": "stdout",
     "output_type": "stream",
     "text": [
      "Total FLOPs: 1826516992\n",
      "FLOPs per layer:\n",
      "Counter({'': 1826516992, 'layer1': 466436096, 'layer2': 413550592, 'layer3': 412296192, 'layer4': 411668992, 'layer1.0': 233218048, 'layer1.1': 233218048, 'layer2.1': 232214528, 'layer3.1': 231712768, 'layer4.1': 231461888, 'layer2.0': 181336064, 'layer3.0': 180583424, 'layer4.0': 180207104, 'conv1': 118013952, 'layer1.0.conv1': 115605504, 'layer1.0.conv2': 115605504, 'layer1.1.conv1': 115605504, 'layer1.1.conv2': 115605504, 'layer2.0.conv2': 115605504, 'layer2.1.conv1': 115605504, 'layer2.1.conv2': 115605504, 'layer3.0.conv2': 115605504, 'layer3.1.conv1': 115605504, 'layer3.1.conv2': 115605504, 'layer4.0.conv2': 115605504, 'layer4.1.conv1': 115605504, 'layer4.1.conv2': 115605504, 'layer2.0.conv1': 57802752, 'layer3.0.conv1': 57802752, 'layer4.0.conv1': 57802752, 'layer2.0.downsample': 6924288, 'layer3.0.downsample': 6673408, 'layer4.0.downsample': 6547968, 'layer2.0.downsample.0': 6422528, 'layer3.0.downsample.0': 6422528, 'layer4.0.downsample.0': 6422528, 'bn1': 4014080, 'layer1.0.bn1': 1003520, 'layer1.0.bn2': 1003520, 'layer1.1.bn1': 1003520, 'layer1.1.bn2': 1003520, 'fc': 512000, 'layer2.0.bn1': 501760, 'layer2.0.bn2': 501760, 'layer2.0.downsample.1': 501760, 'layer2.1.bn1': 501760, 'layer2.1.bn2': 501760, 'layer3.0.bn1': 250880, 'layer3.0.bn2': 250880, 'layer3.0.downsample.1': 250880, 'layer3.1.bn1': 250880, 'layer3.1.bn2': 250880, 'layer4.0.bn1': 125440, 'layer4.0.bn2': 125440, 'layer4.0.downsample.1': 125440, 'layer4.1.bn1': 125440, 'layer4.1.bn2': 125440, 'avgpool': 25088, 'relu': 0, 'maxpool': 0, 'layer1.0.relu': 0, 'layer1.1.relu': 0, 'layer2.0.relu': 0, 'layer2.1.relu': 0, 'layer3.0.relu': 0, 'layer3.1.relu': 0, 'layer4.0.relu': 0, 'layer4.1.relu': 0})\n"
     ]
    }
   ],
   "source": [
    "import torch\n",
    "import torch.nn as nn\n",
    "from fvcore.nn import FlopCountAnalysis\n",
    "\n",
    "# 예제 모델 (ResNet-18)\n",
    "from torchvision.models import resnet18\n",
    "model = resnet18()\n",
    "\n",
    "# 입력 텐서 (1x3x224x224)\n",
    "input_tensor = torch.randn(1, 3, 224, 224)\n",
    "\n",
    "# FLOPs 계산\n",
    "flops = FlopCountAnalysis(model, input_tensor)\n",
    "print(f\"Total FLOPs: {flops.total()}\")  # 총 FLOPs 출력\n",
    "print(f\"FLOPs per layer:\\n{flops.by_module()}\")"
   ]
  },
  {
   "cell_type": "code",
   "execution_count": 4,
   "metadata": {},
   "outputs": [
    {
     "ename": "TypeError",
     "evalue": "string indices must be integers",
     "output_type": "error",
     "traceback": [
      "\u001b[0;31m---------------------------------------------------------------------------\u001b[0m",
      "\u001b[0;31mTypeError\u001b[0m                                 Traceback (most recent call last)",
      "Cell \u001b[0;32mIn[4], line 3\u001b[0m\n\u001b[1;32m      1\u001b[0m \u001b[38;5;28;01mfrom\u001b[39;00m \u001b[38;5;21;01mmodels\u001b[39;00m \u001b[38;5;28;01mimport\u001b[39;00m create_model\n\u001b[0;32m----> 3\u001b[0m model \u001b[38;5;241m=\u001b[39m \u001b[43mcreate_model\u001b[49m\u001b[43m(\u001b[49m\u001b[38;5;124;43m'\u001b[39;49m\u001b[38;5;124;43mVQLLFLOWD\u001b[39;49m\u001b[38;5;124;43m'\u001b[39;49m\u001b[43m)\u001b[49m\n",
      "File \u001b[0;32m~/jaeha/GLARE/code/models/__init__.py:46\u001b[0m, in \u001b[0;36mcreate_model\u001b[0;34m(opt, step, **opt_kwargs)\u001b[0m\n\u001b[1;32m     43\u001b[0m \u001b[38;5;28;01mfor\u001b[39;00m k, v \u001b[38;5;129;01min\u001b[39;00m opt_kwargs\u001b[38;5;241m.\u001b[39mitems():\n\u001b[1;32m     44\u001b[0m     opt[k] \u001b[38;5;241m=\u001b[39m v\n\u001b[0;32m---> 46\u001b[0m model \u001b[38;5;241m=\u001b[39m \u001b[43mopt\u001b[49m\u001b[43m[\u001b[49m\u001b[38;5;124;43m'\u001b[39;49m\u001b[38;5;124;43mmodel\u001b[39;49m\u001b[38;5;124;43m'\u001b[39;49m\u001b[43m]\u001b[49m\n\u001b[1;32m     48\u001b[0m M \u001b[38;5;241m=\u001b[39m find_model_using_name(model)\n\u001b[1;32m     50\u001b[0m m \u001b[38;5;241m=\u001b[39m M(opt, step)\n",
      "\u001b[0;31mTypeError\u001b[0m: string indices must be integers"
     ]
    }
   ],
   "source": [
    "from models import create_model\n",
    "\n",
    "model = create_model('VQLLFLOWD')\n"
   ]
  },
  {
   "cell_type": "code",
   "execution_count": null,
   "metadata": {},
   "outputs": [],
   "source": []
  }
 ],
 "metadata": {
  "kernelspec": {
   "display_name": "glare",
   "language": "python",
   "name": "python3"
  },
  "language_info": {
   "codemirror_mode": {
    "name": "ipython",
    "version": 3
   },
   "file_extension": ".py",
   "mimetype": "text/x-python",
   "name": "python",
   "nbconvert_exporter": "python",
   "pygments_lexer": "ipython3",
   "version": "3.8.20"
  }
 },
 "nbformat": 4,
 "nbformat_minor": 2
}
